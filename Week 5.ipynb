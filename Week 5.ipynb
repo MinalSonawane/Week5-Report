{
 "cells": [
  {
   "cell_type": "markdown",
   "metadata": {},
   "source": [
    "**The Battle of the Neighborhoods - Report**\n",
    "\n",
    "**1.Introduction & Business Problem :**\n",
    "    \n",
    "**Problem Background:**\n",
    "    \n",
    " The City of New York, is the most populous city in the United States. It is diverse and is the financial capital of USA. It is multicultural. It provides lot of business oppourtunities and business friendly environment. It has attracted many different players into the market. It is a global hub of business and commerce. The city is a major center for banking and finance, retailing, world trade, transportation, tourism, real estate, new media, traditional media, advertising, legal services, accountancy, insurance, theater, fashion, and the arts in the United States.\n",
    " This also means that the market is highly competitive. As it is highly developed city so cost of doing business is also one of the highest. Thus, any new business venture or expansion needs to be analysed carefully. The insights derived from analysis will give good understanding of the business environment which help in strategically targeting the market. This will help in reduction of risk. And the Return on Investment will be reasonable."
   ]
  },
  {
   "cell_type": "markdown",
   "metadata": {},
   "source": [
    "**Problem Description:**\n",
    "A restaurant is a business which prepares and serves food and drink to customers in return for money, either paid before the meal, after the meal, or with an open account. The City of New York is famous for its excelllent cuisine. It's food culture includes an array of international cuisines influenced by the city's immigrant history.\n",
    "1. Central and Eastern European immigrants, especially Jewish immigrants - bagels, cheesecake, hot dogs, knishes, and delicatessens\n",
    "2. Italian immigrants - New York-style pizza and Italian cuisine\n",
    "3. Jewish immigrants and Irish immigrants - pastrami and corned beef\n",
    "4. Chinese and other Asian restaurants, sandwich joints, trattorias, diners, and coffeehouses are ubiquitous throughout the city\n",
    "5. mobile food vendors - Some 4,000 licensed by the city\n",
    "6. Middle Eastern foods such as falafel and kebabs examples of modern New York street food\n",
    "7. It is famous for not just Pizzerias, Cafe's but also for fine dining Michelin starredrestaurants.The city is home to \"nearly one thousand of the finest and most diverse haute cuisine restaurants in the world\", according to Michelin.\n",
    "So it is evident that to survive in such competitive market it is very important to startegically plan. Various factors need to be studied inorder to decide on the Location such as :\n",
    "1. New York Population\n",
    "2. New York City Demographics\n",
    "3. Are there any Farmers Markets, Wholesale markets etc nearby so that the ingredients can be\n",
    "purchased fresh to maintain quality and cost?\n",
    "4. Are there any venues like Gyms, Entertainmnet zones, Parks etc nearby where floating\n",
    "population is high etc\n",
    "5. Who are the competitors in that location?\n",
    "6. Cuisine served / Menu of the competitors\n",
    "7. Segmentation of the Borough\n",
    "8. Untapped markets\n",
    "9. Saturated markets etc\n",
    "The list can go on...\n",
    "Eventhough well funded XYZ Company Ltd. need to choose the correct location to start its first venture.If this is successful they can replicate the same in other locations. First move is very important, thereby choice of location is very important.\n",
    "Target Audience:\n",
    "To recommend the correct location, XYZ Company Ltd has appointed me to lead of the Data Science team. The objective is to locate and recommend to the management which neighborhood of Newyork city will be best choice to start a restaurant. The Management also expects to understand the rationale of the recommendations made.\n",
    "This would interest anyone who wants to start a new restaurant in Newyork city.\n",
    "Success Criteria:\n",
    "The success criteria of the project will be a good recommendation of borough/Neighborhood choice to XYZ Company Ltd based on Lack of such restaurants in that location and nearest suppliers of ingredients.\n",
    "2. Data :\n",
    "One city will be analysed in this project : Newyork City.\n",
    "We will be using the below datasets for analysing Newyork city\n",
    "Data 1 : Neighborhood has a total of 5 boroughs and 306 neighborhoods. In order to segement the neighborhoods and explore them, we will essentially need a dataset that contains the 5 boroughs and the neighborhoods that exist in each borough as well as the the latitude and logitude coordinates of each neighborhood.\n",
    "This dataset exists for free on the web. Link to the dataset is :\n",
    "https://geo.nyu.edu/catalog/nyu_2451_34572\n",
    "Data 2 : Second data which will be used is the DOHMH Farmers Markets and Food Boxes dataset. In this we will be using the data of Farmers Markets.\n",
    "https://data.cityofnewyork.us/dataset/DOHMH-Farmers-Markets-and-Food-Boxes/8vwk-6iz2\n",
    "Website-https://www.grownyc.org/greenmarketco/foodbox\n",
    "GrowNYC's Fresh Food Box Program is a food access initiative that enables under-served communities to purchase fresh, healthy, and primarily regionally grown produce well below traditional retail prices.\n",
    "     \n",
    "A farmers' market is often defined as a public site used by two or more local or regional producers for the direct sale of farm products to consumers. In addition to fresh fruits and vegetables, markets may sell dairy products, fish, meat, baked goods, and other minimally processed foods.\n",
    " Data 3 : For the below analysis we will get data from wikipedia as given below :\n",
    "1. New York Population\n",
    "2. New York City Demographics\n",
    "3. Cuisine of New York city\n",
    "https://en.wikipedia.org/wiki/New_York_City https://en.wikipedia.org/wiki/Economy_of_New_York_City https://en.wikipedia.org/wiki/Portal:New_York_City https://en.wikipedia.org/wiki/Cuisine_of_New_York_City\n",
    "Data 4 : Newyork city geographical coordinates data will be utilized as input for the Foursquare API, that will be leveraged to provision venues information for each neighborhood.We will use the Foursquare API to explore neighborhoods in New York City. \n"
   ]
  },
  {
   "cell_type": "markdown",
   "metadata": {},
   "source": [
    "**3.Methodology :**\n",
    "\n",
    "**Business Understanding :**\n",
    "\n",
    "Our main goal is to get optimum location for new restaurant business in New York City for XYZ Company.\n",
    "Analytic Approach :\n",
    "New York city neighbourhood has a total of 5 boroughs and 306 neighborhoods. In this project first part is clustering of Manhattan and Brooklyn . And second part is clustering of Bronx, Queens and Staten Island. This is done because of the following Exploratory data analysis.\n",
    "Exploratory Data Analysis :\n",
    "Data 1- New york city Geographical Coordinates Data.\n",
    "1. In this we load the data and explore data from newyork_data.json file.\n",
    "2. Transform the data of nested python dictionaries into a pandas dataframe.\n",
    "3. This dataframe contains the geographical coordinates of New York city neighborhoods.\n",
    "4. This data will used to get Venues data from Fouresquare.\n",
    "5. We used geopy and folium libraries to create a map of New York city with neighborhoods superimposed on top.\n",
    "Data 2- Second data which is used is the DOHMH Farmers Markets and Food Boxes dataset. In this we will be using the data of Farmers Markets data.\n",
    "There are totally 144 Farmers Markets in New York city. Highest number are in Manhattan and Brooklyn.\n",
    "And lowest in Queens, Bronx and Staten Island.\n",
    "\n",
    "We used geopy and folium libraries to create a map to visualise farmers markets of New York city.\n",
    "Data 3 : To analyize New York city Population, Demographics and Cuisine , scrapped the data from Wikipedia pages given above in the data section. We used BeautifulSoup python library. Beautiful Soup is a Python package for parsing HTML and XML documents (including having malformed markup, i.e. non-closed tags, so named after tag soup). It creates a parse tree for parsed pages that can be used to extract data from HTML, which is useful for web scraping\n",
    "1.New York Population : Insights from the data :\n",
    " Manhattan (New York County) is the geographically smallest and most densely populated borough.\n",
    " Manhattan's (New York County's) population density of 72,033 people per square mile (27,812/km2) in 2015 makes it the highest of any county in the United States and higher than the density of any individual American city.\n",
    "Brooklyn (Kings County), on the western tip of Long Island, is the city's most populous borough.\n",
    " Queens (Queens County), on Long Island north and east of Brooklyn, is geographically the largest borough.\n",
    "2.New York City Demographics : New York City is the most populous city in the United States,[9] with an estimated record high of 8,622,698 residents as of 2017,[7] incorporating more immigration into the city than outmigration since the 2010 United States Census.\n",
    "The racial composition is as given below. This is the reason New York city has restaurants serving cuisine from many countries such as Indian, African, Japan etc. This also increases the scope for restaurants business in New York City.\n",
    "\n"
   ]
  },
  {
   "cell_type": "markdown",
   "metadata": {},
   "source": [
    "**3.Cuisine of New York city :** \n",
    "This data has been manually prepared. Data is taken from Wikipedia page - https://en.wikipedia.org/wiki/Cuisine_of_New_York_City . Using this data we did word cloud.\n",
    "NEW YORK CITY CUISINE : Most Preferred Food in New York City –Italian, Purto Rican, Mexican, Jewish, Indian, Pakistani & Dominican."
   ]
  },
  {
   "cell_type": "markdown",
   "metadata": {},
   "source": [
    "Data 4 : NewYork city geographical coordinates data has be utilized as input for the Foursquare API, that has been leveraged to provision venues information for each neighborhood. We used the Foursquare API data to explore neighborhoods in New York City.\n"
   ]
  },
  {
   "cell_type": "markdown",
   "metadata": {},
   "source": [
    "**4.RESULTS :**\n",
    "From this venues data we filtered and used only the restaurant data for Brooklyn & Manhattan clustering and Bronx, Queens and Staten Island clustering. As we focussed only on restaurants business.\n",
    "Neighborhood K-Means clustering based on mean occurrence of venue category :\n",
    "To cluster the neighborhoods into two clusters we used the K-Means clustering Algorithm. k-means clustering aims to partition n observations into k clusters in which each observation belongs to the cluster with the nearest mean. It uses iterative refinement approach.\n"
   ]
  },
  {
   "cell_type": "markdown",
   "metadata": {},
   "source": [
    "**5.DISCUSSION:**\n",
    "1. There is scope to increase Farmers markets in Bronx, Queens and Staten Island.\n",
    "2. There is scope to explore cuisines of various countries in Bronx, Queens and Staten Island.\n",
    "3. In Manhattan and Brooklyn restaurants of cuisines of many countries are available. So if risk\n",
    "can be taken with great menu on board. It also shows people love eating cuisines of various countries."
   ]
  },
  {
   "cell_type": "markdown",
   "metadata": {},
   "source": [
    "**6.CONCLUSION:**\n",
    "This analysis is performed on limited data. This may be right or may be wrong. But if good amount of data is available there is scope to come up with better results. If there are lot of restaurants probably there is lot of demand. Brooklyn and Manhattan has high concentration of restaurant business. Very competitive market. Bronx, Queens and Staten Island also has good number of restaurants but not as many as required. So this can be explored.\n",
    "As per the neighbourhood or restaurant type mentioned like Indian Restaurant analysis can be checked. A venue with lowest risk and competition can be identified."
   ]
  }
 ],
 "metadata": {
  "kernelspec": {
   "display_name": "Python 3.6",
   "language": "python",
   "name": "python3"
  },
  "language_info": {
   "codemirror_mode": {
    "name": "ipython",
    "version": 3
   },
   "file_extension": ".py",
   "mimetype": "text/x-python",
   "name": "python",
   "nbconvert_exporter": "python",
   "pygments_lexer": "ipython3",
   "version": "3.6.9"
  }
 },
 "nbformat": 4,
 "nbformat_minor": 1
}
